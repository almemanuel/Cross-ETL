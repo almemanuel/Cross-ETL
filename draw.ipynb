{
  "nbformat": 4,
  "nbformat_minor": 0,
  "metadata": {
    "colab": {
      "name": "Cross-ETL.ipynb",
      "provenance": [],
      "collapsed_sections": [],
      "authorship_tag": "ABX9TyPUnCuWPKV+//DXmNZL8+1k",
      "include_colab_link": true
    },
    "kernelspec": {
      "name": "python3",
      "display_name": "Python 3"
    },
    "language_info": {
      "name": "python"
    }
  },
  "cells": [
    {
      "cell_type": "markdown",
      "metadata": {
        "id": "view-in-github",
        "colab_type": "text"
      },
      "source": [
        "<a href=\"https://colab.research.google.com/github/almemanuel/Cross-ETL/blob/main/draw.ipynb\" target=\"_parent\"><img src=\"https://colab.research.google.com/assets/colab-badge.svg\" alt=\"Open In Colab\"/></a>"
      ]
    },
    {
      "cell_type": "code",
      "execution_count": null,
      "metadata": {
        "id": "9hR7H_7o_gJU"
      },
      "outputs": [],
      "source": [
        "!pip install httpx"
      ]
    },
    {
      "cell_type": "code",
      "source": [
        "import json\n",
        "from httpx import get"
      ],
      "metadata": {
        "id": "Ucdp3VPkABxX"
      },
      "execution_count": null,
      "outputs": []
    },
    {
      "cell_type": "code",
      "source": [
        "g = (get(f'http://challenge.dienekes.com.br/api/numbers?page=1').json()['numbers'])\n",
        "len"
      ],
      "metadata": {
        "id": "PnJ370T-BGAG"
      },
      "execution_count": null,
      "outputs": []
    },
    {
      "cell_type": "code",
      "source": [
        "numbers = []\n",
        "i = 1\n",
        "\n",
        "while True:\n",
        "    try:\n",
        "        response = get(f'http://challenge.dienekes.com.br/api/numbers?page={i}').json()[\"numbers\"]\n",
        "        for n in response:\n",
        "            numbers.append(n) \n",
        "    except:\n",
        "        break\n",
        "    i += 1\n"
      ],
      "metadata": {
        "id": "g8rGpcCgAOAC"
      },
      "execution_count": null,
      "outputs": []
    },
    {
      "cell_type": "code",
      "source": [
        "def sort(arrays):\n",
        "    sort_half(arrays, 0, len(arrays) - 1)\n",
        "\n",
        "\n",
        "def sort_half(arrays, start, end):\n",
        "    if start >= end:\n",
        "        return\n",
        "\n",
        "    middle = (start + end) // 2\n",
        "\n",
        "    sort_half(arrays, start, middle)\n",
        "    sort_half(arrays, middle + 1, end)\n",
        "\n",
        "    merge(arrays, start, end)\n",
        "\n",
        "\n",
        "def merge(arrays, start, end):\n",
        "    arrays[start: end + 1] = sorted(arrays[start: end + 1])"
      ],
      "metadata": {
        "id": "2TehUBkGHB9v"
      },
      "execution_count": null,
      "outputs": []
    },
    {
      "cell_type": "code",
      "source": [
        "sort(numbers)\n",
        "\n",
        "api = json.loads(json.dumps({\"ordenedNumbers\": numbers}))\n",
        "\n"
      ],
      "metadata": {
        "id": "yhFWez3VHLv-"
      },
      "execution_count": null,
      "outputs": []
    }
  ]
}