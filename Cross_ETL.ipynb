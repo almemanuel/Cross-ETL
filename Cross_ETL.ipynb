{
  "nbformat": 4,
  "nbformat_minor": 0,
  "metadata": {
    "colab": {
      "name": "Cross-ETL.ipynb",
      "provenance": [],
      "collapsed_sections": [],
      "toc_visible": true,
      "authorship_tag": "ABX9TyNn7sA2jVxtNByVZB9AoEjT",
      "include_colab_link": true
    },
    "kernelspec": {
      "name": "python3",
      "display_name": "Python 3"
    },
    "language_info": {
      "name": "python"
    }
  },
  "cells": [
    {
      "cell_type": "markdown",
      "metadata": {
        "id": "view-in-github",
        "colab_type": "text"
      },
      "source": [
        "<a href=\"https://colab.research.google.com/github/almemanuel/Cross-ETL/blob/main/Cross_ETL.ipynb\" target=\"_parent\"><img src=\"https://colab.research.google.com/assets/colab-badge.svg\" alt=\"Open In Colab\"/></a>"
      ]
    },
    {
      "cell_type": "markdown",
      "source": [
        "Instalando httpx"
      ],
      "metadata": {
        "id": "xWuXa5I1BJT-"
      }
    },
    {
      "cell_type": "code",
      "execution_count": null,
      "metadata": {
        "id": "9hR7H_7o_gJU"
      },
      "outputs": [],
      "source": [
        "!pip install httpx"
      ]
    },
    {
      "cell_type": "markdown",
      "source": [
        "Módulos utilizados"
      ],
      "metadata": {
        "id": "mwuZENT6BPKo"
      }
    },
    {
      "cell_type": "code",
      "source": [
        "import json\n",
        "from httpx import get"
      ],
      "metadata": {
        "id": "Ucdp3VPkABxX"
      },
      "execution_count": 2,
      "outputs": []
    },
    {
      "cell_type": "markdown",
      "source": [
        "Obtendo os números das páginas"
      ],
      "metadata": {
        "id": "IAAe2gZrBckn"
      }
    },
    {
      "cell_type": "code",
      "source": [
        "numbers = []\n",
        "i = 1\n",
        "\n",
        "while True:\n",
        "    try:\n",
        "        response = get(f'http://challenge.dienekes.com.br/api/numbers?page={i}').json()[\"numbers\"]\n",
        "        for n in response:\n",
        "            numbers.append(n) \n",
        "    except:\n",
        "        break\n",
        "    i += 1\n"
      ],
      "metadata": {
        "id": "g8rGpcCgAOAC"
      },
      "execution_count": 4,
      "outputs": []
    },
    {
      "cell_type": "markdown",
      "source": [
        "Ordenando os valores usando merge sort"
      ],
      "metadata": {
        "id": "d2or6evNBkFs"
      }
    },
    {
      "cell_type": "code",
      "source": [
        "def sort(arrays):\n",
        "    sort_half(arrays, 0, len(arrays) - 1)\n",
        "\n",
        "\n",
        "def sort_half(arrays, start, end):\n",
        "    if start >= end:\n",
        "        return\n",
        "\n",
        "    middle = (start + end) // 2\n",
        "\n",
        "    sort_half(arrays, start, middle)\n",
        "    sort_half(arrays, middle + 1, end)\n",
        "\n",
        "    merge(arrays, start, end)\n",
        "\n",
        "\n",
        "def merge(arrays, start, end):\n",
        "    arrays[start: end + 1] = sorted(arrays[start: end + 1])\n",
        "\n",
        "\n",
        "sort(numbers)"
      ],
      "metadata": {
        "id": "2TehUBkGHB9v"
      },
      "execution_count": 5,
      "outputs": []
    },
    {
      "cell_type": "markdown",
      "source": [
        "Tornando a lista em um arquivo JSON"
      ],
      "metadata": {
        "id": "tIYypduwBtBV"
      }
    },
    {
      "cell_type": "code",
      "source": [
        "api = json.loads(json.dumps({\"ordenedNumbers\": numbers}))\n",
        "\n",
        "with open(f\"result.json\", \"w\") as result:\n",
        "    json.dump(api, result, indent = 4)"
      ],
      "metadata": {
        "id": "yhFWez3VHLv-"
      },
      "execution_count": 8,
      "outputs": []
    }
  ]
}